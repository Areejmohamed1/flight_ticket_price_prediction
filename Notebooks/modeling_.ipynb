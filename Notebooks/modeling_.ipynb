{
 "cells": [
  {
   "cell_type": "code",
   "execution_count": 1,
   "id": "1d4c4059",
   "metadata": {},
   "outputs": [],
   "source": [
    "import pandas as pd"
   ]
  },
  {
   "cell_type": "code",
   "execution_count": 2,
   "id": "9e04bd39",
   "metadata": {},
   "outputs": [
    {
     "data": {
      "text/html": [
       "<div>\n",
       "<style scoped>\n",
       "    .dataframe tbody tr th:only-of-type {\n",
       "        vertical-align: middle;\n",
       "    }\n",
       "\n",
       "    .dataframe tbody tr th {\n",
       "        vertical-align: top;\n",
       "    }\n",
       "\n",
       "    .dataframe thead th {\n",
       "        text-align: right;\n",
       "    }\n",
       "</style>\n",
       "<table border=\"1\" class=\"dataframe\">\n",
       "  <thead>\n",
       "    <tr style=\"text-align: right;\">\n",
       "      <th></th>\n",
       "      <th>Air India</th>\n",
       "      <th>GoAir</th>\n",
       "      <th>IndiGo</th>\n",
       "      <th>Jet Airways</th>\n",
       "      <th>Jet Airways Business</th>\n",
       "      <th>Multiple carriers</th>\n",
       "      <th>Multiple carriers Premium economy</th>\n",
       "      <th>SpiceJet</th>\n",
       "      <th>Trujet</th>\n",
       "      <th>Vistara</th>\n",
       "      <th>...</th>\n",
       "      <th>day</th>\n",
       "      <th>Total_Stops</th>\n",
       "      <th>Dgree</th>\n",
       "      <th>Duration(Minutes)</th>\n",
       "      <th>day_number</th>\n",
       "      <th>Price_USD</th>\n",
       "      <th>Dep_Time_hour</th>\n",
       "      <th>Dep_Time_min</th>\n",
       "      <th>Arrival_Time_hour</th>\n",
       "      <th>Arrival_Time_min</th>\n",
       "    </tr>\n",
       "  </thead>\n",
       "  <tbody>\n",
       "    <tr>\n",
       "      <th>0</th>\n",
       "      <td>0</td>\n",
       "      <td>0</td>\n",
       "      <td>1</td>\n",
       "      <td>0</td>\n",
       "      <td>0</td>\n",
       "      <td>0</td>\n",
       "      <td>0</td>\n",
       "      <td>0</td>\n",
       "      <td>0</td>\n",
       "      <td>0</td>\n",
       "      <td>...</td>\n",
       "      <td>24</td>\n",
       "      <td>0.0</td>\n",
       "      <td>0</td>\n",
       "      <td>170</td>\n",
       "      <td>6</td>\n",
       "      <td>44.793103</td>\n",
       "      <td>22</td>\n",
       "      <td>20</td>\n",
       "      <td>1</td>\n",
       "      <td>10</td>\n",
       "    </tr>\n",
       "    <tr>\n",
       "      <th>1</th>\n",
       "      <td>1</td>\n",
       "      <td>0</td>\n",
       "      <td>0</td>\n",
       "      <td>0</td>\n",
       "      <td>0</td>\n",
       "      <td>0</td>\n",
       "      <td>0</td>\n",
       "      <td>0</td>\n",
       "      <td>0</td>\n",
       "      <td>0</td>\n",
       "      <td>...</td>\n",
       "      <td>1</td>\n",
       "      <td>2.0</td>\n",
       "      <td>1</td>\n",
       "      <td>445</td>\n",
       "      <td>2</td>\n",
       "      <td>88.068966</td>\n",
       "      <td>5</td>\n",
       "      <td>50</td>\n",
       "      <td>13</td>\n",
       "      <td>15</td>\n",
       "    </tr>\n",
       "    <tr>\n",
       "      <th>2</th>\n",
       "      <td>0</td>\n",
       "      <td>0</td>\n",
       "      <td>0</td>\n",
       "      <td>1</td>\n",
       "      <td>0</td>\n",
       "      <td>0</td>\n",
       "      <td>0</td>\n",
       "      <td>0</td>\n",
       "      <td>0</td>\n",
       "      <td>0</td>\n",
       "      <td>...</td>\n",
       "      <td>9</td>\n",
       "      <td>2.0</td>\n",
       "      <td>1</td>\n",
       "      <td>1140</td>\n",
       "      <td>6</td>\n",
       "      <td>159.563218</td>\n",
       "      <td>9</td>\n",
       "      <td>25</td>\n",
       "      <td>4</td>\n",
       "      <td>25</td>\n",
       "    </tr>\n",
       "    <tr>\n",
       "      <th>3</th>\n",
       "      <td>0</td>\n",
       "      <td>0</td>\n",
       "      <td>1</td>\n",
       "      <td>0</td>\n",
       "      <td>0</td>\n",
       "      <td>0</td>\n",
       "      <td>0</td>\n",
       "      <td>0</td>\n",
       "      <td>0</td>\n",
       "      <td>0</td>\n",
       "      <td>...</td>\n",
       "      <td>12</td>\n",
       "      <td>1.0</td>\n",
       "      <td>0</td>\n",
       "      <td>325</td>\n",
       "      <td>6</td>\n",
       "      <td>71.471264</td>\n",
       "      <td>18</td>\n",
       "      <td>5</td>\n",
       "      <td>23</td>\n",
       "      <td>30</td>\n",
       "    </tr>\n",
       "    <tr>\n",
       "      <th>4</th>\n",
       "      <td>0</td>\n",
       "      <td>0</td>\n",
       "      <td>1</td>\n",
       "      <td>0</td>\n",
       "      <td>0</td>\n",
       "      <td>0</td>\n",
       "      <td>0</td>\n",
       "      <td>0</td>\n",
       "      <td>0</td>\n",
       "      <td>0</td>\n",
       "      <td>...</td>\n",
       "      <td>1</td>\n",
       "      <td>1.0</td>\n",
       "      <td>1</td>\n",
       "      <td>285</td>\n",
       "      <td>4</td>\n",
       "      <td>152.896552</td>\n",
       "      <td>16</td>\n",
       "      <td>50</td>\n",
       "      <td>21</td>\n",
       "      <td>35</td>\n",
       "    </tr>\n",
       "  </tbody>\n",
       "</table>\n",
       "<p>5 rows × 33 columns</p>\n",
       "</div>"
      ],
      "text/plain": [
       "   Air India  GoAir  IndiGo  Jet Airways  Jet Airways Business  \\\n",
       "0          0      0       1            0                     0   \n",
       "1          1      0       0            0                     0   \n",
       "2          0      0       0            1                     0   \n",
       "3          0      0       1            0                     0   \n",
       "4          0      0       1            0                     0   \n",
       "\n",
       "   Multiple carriers  Multiple carriers Premium economy  SpiceJet  Trujet  \\\n",
       "0                  0                                  0         0       0   \n",
       "1                  0                                  0         0       0   \n",
       "2                  0                                  0         0       0   \n",
       "3                  0                                  0         0       0   \n",
       "4                  0                                  0         0       0   \n",
       "\n",
       "   Vistara  ...  day   Total_Stops  Dgree  Duration(Minutes)  day_number  \\\n",
       "0        0  ...    24          0.0      0                170           6   \n",
       "1        0  ...     1          2.0      1                445           2   \n",
       "2        0  ...     9          2.0      1               1140           6   \n",
       "3        0  ...    12          1.0      0                325           6   \n",
       "4        0  ...     1          1.0      1                285           4   \n",
       "\n",
       "    Price_USD  Dep_Time_hour  Dep_Time_min  Arrival_Time_hour  \\\n",
       "0   44.793103             22            20                  1   \n",
       "1   88.068966              5            50                 13   \n",
       "2  159.563218              9            25                  4   \n",
       "3   71.471264             18             5                 23   \n",
       "4  152.896552             16            50                 21   \n",
       "\n",
       "   Arrival_Time_min  \n",
       "0                10  \n",
       "1                15  \n",
       "2                25  \n",
       "3                30  \n",
       "4                35  \n",
       "\n",
       "[5 rows x 33 columns]"
      ]
     },
     "execution_count": 2,
     "metadata": {},
     "output_type": "execute_result"
    }
   ],
   "source": [
    "df = pd.read_csv(\"final.csv\")\n",
    "df.head()"
   ]
  },
  {
   "cell_type": "code",
   "execution_count": 3,
   "id": "3601de85",
   "metadata": {},
   "outputs": [],
   "source": [
    "from sklearn.model_selection import train_test_split\n",
    "\n",
    "X = df.drop(columns=['Price_USD'])\n",
    "y = df['Price_USD']  \n",
    "\n",
    "X_train, X_test, y_train, y_test = train_test_split(X, y, test_size=0.2, random_state=42)"
   ]
  },
  {
   "cell_type": "code",
   "execution_count": 4,
   "id": "9286ab51",
   "metadata": {},
   "outputs": [],
   "source": [
    "from sklearn.preprocessing import StandardScaler\n",
    "from sklearn.preprocessing import MinMaxScaler\n",
    "\n",
    "scaler = MinMaxScaler()\n",
    "X_train[['Duration(Minutes)', 'Total_Stops']] = scaler.fit_transform(X_train[['Duration(Minutes)', 'Total_Stops']])\n",
    "X_test[['Duration(Minutes)', 'Total_Stops']] = scaler.transform(X_test[['Duration(Minutes)', 'Total_Stops']])"
   ]
  },
  {
   "cell_type": "code",
   "execution_count": 5,
   "id": "edc3a435",
   "metadata": {},
   "outputs": [],
   "source": [
    "from sklearn.metrics import mean_absolute_error, mean_squared_error, r2_score\n",
    "\n",
    "def evaluate_model(model, X_train, X_test, y_train, y_test):\n",
    "    model.fit(X_train, y_train)  \n",
    "    predictions = model.predict(X_test)  \n",
    "\n",
    "    mae = mean_absolute_error(y_test, predictions)\n",
    "    rmse = mean_squared_error(y_test, predictions, squared=False)\n",
    "    r2 = r2_score(y_test, predictions)\n",
    "\n",
    "    print(f\"Model: {model.__class__.__name__}\")\n",
    "    print(f\"MAE: {mae:.4f}\")\n",
    "    print(f\"RMSE: {rmse:.4f}\")\n",
    "    print(f\"R² Score: {r2:.4f}\")"
   ]
  },
  {
   "cell_type": "code",
   "execution_count": 6,
   "id": "46c0fa03",
   "metadata": {},
   "outputs": [
    {
     "name": "stdout",
     "output_type": "stream",
     "text": [
      "Model: LinearRegression\n",
      "MAE: 20.0463\n",
      "RMSE: 27.2313\n",
      "R² Score: 0.7397\n"
     ]
    }
   ],
   "source": [
    "# linear regression model\n",
    "from sklearn.linear_model import LinearRegression\n",
    "\n",
    "model_lr = LinearRegression()\n",
    "evaluate_model(model_lr, X_train, X_test, y_train, y_test)"
   ]
  },
  {
   "cell_type": "code",
   "execution_count": 7,
   "id": "7e00e5e0",
   "metadata": {},
   "outputs": [
    {
     "name": "stdout",
     "output_type": "stream",
     "text": [
      "Model: RandomForestRegressor\n",
      "MAE: 13.6117\n",
      "RMSE: 20.8861\n",
      "R² Score: 0.8469\n"
     ]
    }
   ],
   "source": [
    "from sklearn.ensemble import RandomForestRegressor\n",
    "\n",
    "model_rf = RandomForestRegressor(\n",
    "    n_estimators=100,  # Increase trees for more stability\n",
    "    max_depth=14,  # Slightly increase depth for better learning\n",
    "    min_samples_leaf=5,  \n",
    "    max_features=\"sqrt\",\n",
    "    bootstrap=True,\n",
    "    random_state=42\n",
    ")\n",
    "evaluate_model(model_rf, X_train, X_test, y_train, y_test)"
   ]
  },
  {
   "cell_type": "code",
   "execution_count": 8,
   "id": "f588b969",
   "metadata": {},
   "outputs": [],
   "source": [
    "def check_overfitting(model, X_train, X_test, y_train, y_test):\n",
    "    train_score = model.score(X_train, y_train)  # R² Score on training set\n",
    "    test_score = model.score(X_test, y_test)  # R² Score on test set\n",
    "    \n",
    "    print(f\"Model: {model.__class__.__name__}\")\n",
    "    print(f\"Training R² Score: {train_score:.4f}\")\n",
    "    print(f\"Testing R² Score: {test_score:.4f}\")"
   ]
  },
  {
   "cell_type": "code",
   "execution_count": 9,
   "id": "bb7633af",
   "metadata": {},
   "outputs": [
    {
     "name": "stdout",
     "output_type": "stream",
     "text": [
      "Model: RandomForestRegressor\n",
      "Training R² Score: 0.8570\n",
      "Testing R² Score: 0.8469\n"
     ]
    }
   ],
   "source": [
    "check_overfitting(model_rf, X_train, X_test, y_train, y_test)"
   ]
  },
  {
   "cell_type": "code",
   "execution_count": 10,
   "id": "3d28e797",
   "metadata": {},
   "outputs": [
    {
     "name": "stdout",
     "output_type": "stream",
     "text": [
      "🔹 Feature Importance Ranking:\n",
      "Dgree: 0.3544\n",
      "Duration(Minutes): 0.1488\n",
      "Total_Stops: 0.1073\n",
      "Short: 0.0666\n",
      "Jet Airways: 0.0483\n",
      "day : 0.0375\n",
      "month: 0.0296\n",
      "IndiGo: 0.0253\n",
      "Dest_Delhi: 0.0188\n",
      "day_number: 0.0179\n",
      "Arrival_Time_hour: 0.0150\n",
      "SpiceJet: 0.0146\n",
      "Dep_Time_hour: 0.0136\n",
      "Delhi: 0.0136\n",
      "Dest_New Delhi: 0.0126\n",
      "Dep_Time_min: 0.0117\n",
      "Arrival_Time_min: 0.0106\n",
      "Medium: 0.0089\n",
      "Dest_Cochin: 0.0081\n",
      "Air India: 0.0076\n",
      "Multiple carriers: 0.0067\n",
      "Mumbai: 0.0053\n",
      "Kolkata: 0.0048\n",
      "Dest_Hyderabad: 0.0037\n",
      "Jet Airways Business: 0.0026\n",
      "Vistara: 0.0024\n",
      "GoAir: 0.0020\n",
      "Dest_Kolkata: 0.0010\n",
      "Chennai: 0.0004\n",
      "Multiple carriers Premium economy: 0.0001\n",
      "Vistara Premium economy: 0.0000\n",
      "Trujet: 0.0000\n"
     ]
    }
   ],
   "source": [
    "import numpy as np\n",
    "feature_importances = model_rf.feature_importances_\n",
    "features = np.array(X_train.columns)\n",
    "\n",
    "sorted_idx = np.argsort(feature_importances)[::-1]\n",
    "\n",
    "print(\"🔹 Feature Importance Ranking:\")\n",
    "for i in sorted_idx:\n",
    "    print(f\"{features[i]}: {feature_importances[i]:.4f}\")"
   ]
  },
  {
   "cell_type": "code",
   "execution_count": 11,
   "id": "1518b501",
   "metadata": {},
   "outputs": [],
   "source": [
    "un_important = [\n",
    "    'GoAir', 'Vistara', 'Chennai',\n",
    "    'Dest_Kolkata',  \n",
    "    'Multiple carriers Premium economy', 'Vistara Premium economy', 'Trujet'\n",
    "]\n",
    "\n",
    "X_train = X_train.drop(columns=un_important)\n",
    "X_test = X_test.drop(columns=un_important)"
   ]
  },
  {
   "cell_type": "code",
   "execution_count": 12,
   "id": "1ffa4331",
   "metadata": {},
   "outputs": [
    {
     "name": "stdout",
     "output_type": "stream",
     "text": [
      "Model: RandomForestRegressor\n",
      "MAE: 12.9757\n",
      "RMSE: 20.1115\n",
      "R² Score: 0.8580\n"
     ]
    }
   ],
   "source": [
    "model_rf = RandomForestRegressor(\n",
    "    n_estimators=100,  # Increase trees for more stability\n",
    "    max_depth=14,  # Slightly increase depth for better learning\n",
    "    min_samples_leaf=5,  \n",
    "    max_features=\"sqrt\",\n",
    "    bootstrap=True,\n",
    "    random_state=42\n",
    ")\n",
    "evaluate_model(model_rf, X_train, X_test, y_train, y_test)"
   ]
  },
  {
   "cell_type": "code",
   "execution_count": 13,
   "id": "1ca5d2ff",
   "metadata": {},
   "outputs": [
    {
     "name": "stdout",
     "output_type": "stream",
     "text": [
      "Model: RandomForestRegressor\n",
      "Training R² Score: 0.8742\n",
      "Testing R² Score: 0.8580\n"
     ]
    }
   ],
   "source": [
    "check_overfitting(model_rf, X_train, X_test, y_train, y_test)"
   ]
  },
  {
   "cell_type": "code",
   "execution_count": 14,
   "id": "cdba024f",
   "metadata": {},
   "outputs": [
    {
     "name": "stdout",
     "output_type": "stream",
     "text": [
      "Model: XGBRegressor\n",
      "MAE: 12.3565\n",
      "RMSE: 17.5177\n",
      "R² Score: 0.8923\n"
     ]
    }
   ],
   "source": [
    "from xgboost import XGBRegressor\n",
    "\n",
    "model_xgb = XGBRegressor(\n",
    "    n_estimators=100,\n",
    "    learning_rate=0.1,\n",
    "    min_child_weight=5,\n",
    "    colsample_bytree=0.6,\n",
    "    random_state=42\n",
    ")\n",
    "evaluate_model(model_xgb, X_train, X_test, y_train, y_test)"
   ]
  },
  {
   "cell_type": "code",
   "execution_count": 15,
   "id": "7150569a",
   "metadata": {},
   "outputs": [
    {
     "name": "stdout",
     "output_type": "stream",
     "text": [
      "Model: XGBRegressor\n",
      "Training R² Score: 0.9169\n",
      "Testing R² Score: 0.8923\n"
     ]
    }
   ],
   "source": [
    "check_overfitting(model_xgb, X_train, X_test, y_train, y_test)"
   ]
  },
  {
   "cell_type": "code",
   "execution_count": 16,
   "id": "76766af7",
   "metadata": {},
   "outputs": [
    {
     "name": "stdout",
     "output_type": "stream",
     "text": [
      "Fitting 3 folds for each of 30 candidates, totalling 90 fits\n",
      "Model: XGBRegressor\n",
      "MAE: 11.1117\n",
      "RMSE: 16.7119\n",
      "R² Score: 0.9020\n"
     ]
    }
   ],
   "source": [
    "from sklearn.model_selection import RandomizedSearchCV\n",
    "\n",
    "param_dist = {\n",
    "    'n_estimators': [100, 150, 200],\n",
    "    'learning_rate': [0.05, 0.08, 0.1],  \n",
    "    'max_depth': [6, 8, 10],             \n",
    "    'min_child_weight': [3, 5, 7],  \n",
    "    'subsample': [0.7, 0.8, 1.0],  \n",
    "    'colsample_bytree': [0.6, 0.8, 1.0]\n",
    "}\n",
    "\n",
    "random_search = RandomizedSearchCV(\n",
    "    estimator=XGBRegressor(random_state=42),\n",
    "    param_distributions=param_dist,\n",
    "    n_iter=30,\n",
    "    cv=3,\n",
    "    scoring='r2',\n",
    "    verbose=1,\n",
    "    n_jobs=-1\n",
    ")\n",
    "\n",
    "random_search.fit(X_train, y_train)\n",
    "\n",
    "# Best model after tuning\n",
    "best_xgb = random_search.best_estimator_\n",
    "evaluate_model(best_xgb, X_train, X_test, y_train, y_test)"
   ]
  },
  {
   "cell_type": "code",
   "execution_count": 17,
   "id": "d9911a28",
   "metadata": {},
   "outputs": [
    {
     "name": "stdout",
     "output_type": "stream",
     "text": [
      "Model: XGBRegressor\n",
      "Training R² Score: 0.9403\n",
      "Testing R² Score: 0.9020\n"
     ]
    }
   ],
   "source": [
    "check_overfitting(best_xgb, X_train, X_test, y_train, y_test)"
   ]
  },
  {
   "cell_type": "code",
   "execution_count": 19,
   "id": "652939ec",
   "metadata": {},
   "outputs": [
    {
     "name": "stdout",
     "output_type": "stream",
     "text": [
      "Model: StackingRegressor\n",
      "MAE: 11.0732\n",
      "RMSE: 18.0506\n",
      "R² Score: 0.8856\n",
      "Model: StackingRegressor\n",
      "Training R² Score: 0.9247\n",
      "Testing R² Score: 0.8856\n"
     ]
    }
   ],
   "source": [
    "from sklearn.ensemble import StackingRegressor\n",
    "from sklearn.ensemble import  GradientBoostingRegressor\n",
    "\n",
    "\n",
    "base_models = [\n",
    "    ('rf', model_rf),\n",
    "    ('gb', GradientBoostingRegressor(n_estimators=100, learning_rate=0.1, random_state=42)),\n",
    "    ('xgb', best_xgb)\n",
    "]\n",
    "\n",
    "# Meta-model\n",
    "meta_model = XGBRegressor(n_estimators=50, learning_rate=0.1, random_state=42)\n",
    "\n",
    "# Build the Stacking Regressor\n",
    "stacked_model = StackingRegressor(estimators=base_models, final_estimator=meta_model, n_jobs=-1)\n",
    "\n",
    "# Train & evaluate\n",
    "evaluate_model(stacked_model, X_train, X_test, y_train, y_test)\n",
    "check_overfitting(stacked_model, X_train, X_test, y_train, y_test)\n"
   ]
  },
  {
   "cell_type": "code",
   "execution_count": 21,
   "id": "23fa248a",
   "metadata": {},
   "outputs": [
    {
     "data": {
      "text/plain": [
       "['xgb_best_model.pkl']"
      ]
     },
     "execution_count": 21,
     "metadata": {},
     "output_type": "execute_result"
    }
   ],
   "source": [
    "import joblib\n",
    "\n",
    "# Save the model\n",
    "joblib.dump(best_xgb, 'xgb_best_model.pkl')"
   ]
  },
  {
   "cell_type": "code",
   "execution_count": 26,
   "id": "96a4679c",
   "metadata": {},
   "outputs": [
    {
     "data": {
      "text/plain": [
       "Index(['Air India', 'IndiGo', 'Jet Airways', 'Jet Airways Business',\n",
       "       'Multiple carriers', 'SpiceJet', 'Delhi', 'Kolkata', 'Mumbai',\n",
       "       'Dest_Cochin', 'Dest_Delhi', 'Dest_Hyderabad', 'Dest_New Delhi',\n",
       "       'Medium', 'Short', 'month', 'day ', 'Total_Stops', 'Dgree',\n",
       "       'Duration(Minutes)', 'day_number', 'Dep_Time_hour', 'Dep_Time_min',\n",
       "       'Arrival_Time_hour', 'Arrival_Time_min'],\n",
       "      dtype='object')"
      ]
     },
     "execution_count": 26,
     "metadata": {},
     "output_type": "execute_result"
    }
   ],
   "source": [
    "(X_train.columns)"
   ]
  },
  {
   "cell_type": "code",
   "execution_count": null,
   "id": "fbd89ea9",
   "metadata": {},
   "outputs": [],
   "source": []
  }
 ],
 "metadata": {
  "kernelspec": {
   "display_name": "Python 3 (ipykernel)",
   "language": "python",
   "name": "python3"
  },
  "language_info": {
   "codemirror_mode": {
    "name": "ipython",
    "version": 3
   },
   "file_extension": ".py",
   "mimetype": "text/x-python",
   "name": "python",
   "nbconvert_exporter": "python",
   "pygments_lexer": "ipython3",
   "version": "3.11.5"
  }
 },
 "nbformat": 4,
 "nbformat_minor": 5
}
